{
 "cells": [
  {
   "cell_type": "markdown",
   "metadata": {},
   "source": [
    "# Minimum code example \n",
    "This example retreives results from the google api based on a query string, and formats them. The documentation for the format should be found \n",
    "[here](https://github.com/Lambda-School-Labs/betterreads-be#body-required-3 \"Web Book Data Format\"). Note that the \"clean\" function in google_books_hf might have to be edited if the expected data format changes."
   ]
  },
  {
   "cell_type": "code",
   "execution_count": null,
   "metadata": {},
   "outputs": [],
   "source": [
    "# Basic imports\n",
    "import requests\n",
    "import json\n",
    "import pickle"
   ]
  },
  {
   "cell_type": "code",
   "execution_count": 70,
   "metadata": {},
   "outputs": [],
   "source": [
    "# Google books API key\n",
    "from secrets import GOOGLE_KEY"
   ]
  },
  {
   "cell_type": "code",
   "execution_count": 71,
   "metadata": {},
   "outputs": [],
   "source": [
    "# Helper function to return data in Web ready format\n",
    "from google_books_hf import process_list"
   ]
  },
  {
   "cell_type": "code",
   "execution_count": 52,
   "metadata": {},
   "outputs": [],
   "source": [
    "# Function to compose queries (added to google_books_hf too)\n",
    "def gapi_query(query):\n",
    "    response = requests.get('https://www.googleapis.com/books/v1/volumes?q='\n",
    "                 + query\n",
    "                 + '&key='\n",
    "                 + GOOGLE_KEY)\n",
    "    result_dict = json.loads(response.text)\n",
    "    return result_dict['items']"
   ]
  },
  {
   "cell_type": "code",
   "execution_count": 72,
   "metadata": {},
   "outputs": [],
   "source": [
    "my_query = 'subject:Fantasy'\n",
    "results = gapi_query(my_query)"
   ]
  },
  {
   "cell_type": "code",
   "execution_count": 73,
   "metadata": {},
   "outputs": [],
   "source": [
    "# results"
   ]
  },
  {
   "cell_type": "code",
   "execution_count": 74,
   "metadata": {},
   "outputs": [],
   "source": [
    "relevant_details=['id','title','authors','publisher',\n",
    "                  'publishedDate','description','industryIdentifiers',\n",
    "                  'pageCount','categories','thumbnail','smallThumbnail',\n",
    "                  'language','webReaderLink','textSnippet','isEbook',\n",
    "                  'averageRating','categories']"
   ]
  },
  {
   "cell_type": "code",
   "execution_count": 75,
   "metadata": {
    "collapsed": true,
    "jupyter": {
     "outputs_hidden": true
    }
   },
   "outputs": [
    {
     "data": {
      "text/plain": [
       "[{'title': 'The Search for Truth',\n",
       "  'authors': ['Kaza Kingsley'],\n",
       "  'publisher': 'Simon and Schuster',\n",
       "  'publishedDate': '2009-06-30',\n",
       "  'description': 'When twelve-year-old Erec Rex learns that his friend Bethany is in trouble in Alypium, the magical kingdom he is destined to rule, he rushes to try to save her and to find the five Awen in order to protect the Substance.',\n",
       "  'pageCount': 431,\n",
       "  'categories': ['Juvenile Fiction'],\n",
       "  'averageRating': 4,\n",
       "  'smallThumbnail': 'http://books.google.com/books/content?id=Da7AxpQiq30C&printsec=frontcover&img=1&zoom=5&edge=curl&source=gbs_api',\n",
       "  'thumbnail': 'http://books.google.com/books/content?id=Da7AxpQiq30C&printsec=frontcover&img=1&zoom=1&edge=curl&source=gbs_api',\n",
       "  'language': 'en',\n",
       "  'isEbook': False,\n",
       "  'webReaderLink': 'http://play.google.com/books/reader?id=Da7AxpQiq30C&hl=&printsec=frontcover&source=gbs_api',\n",
       "  'isbn13': '9781416979883',\n",
       "  'isbn10': '1416979883',\n",
       "  'googleId': 'Da7AxpQiq30C'},\n",
       " {'title': 'Sign of the Dove',\n",
       "  'authors': ['Susan Fletcher'],\n",
       "  'publisher': 'Simon and Schuster',\n",
       "  'publishedDate': '2010-03-09',\n",
       "  'description': 'As the last of the dragon eggs, laid long ago, begin to hatch, Lyf becomes a reluctant friend who tries to save both the dragon mothers and their newly born children from their enemies.',\n",
       "  'pageCount': 214,\n",
       "  'categories': ['Juvenile Fiction'],\n",
       "  'averageRating': 4,\n",
       "  'smallThumbnail': 'http://books.google.com/books/content?id=SU5oBugvFHcC&printsec=frontcover&img=1&zoom=5&edge=curl&source=gbs_api',\n",
       "  'thumbnail': 'http://books.google.com/books/content?id=SU5oBugvFHcC&printsec=frontcover&img=1&zoom=1&edge=curl&source=gbs_api',\n",
       "  'language': 'en',\n",
       "  'isEbook': False,\n",
       "  'webReaderLink': 'http://play.google.com/books/reader?id=SU5oBugvFHcC&hl=&printsec=frontcover&source=gbs_api',\n",
       "  'isbn13': '9781416997146',\n",
       "  'isbn10': '1416997148',\n",
       "  'googleId': 'SU5oBugvFHcC'},\n",
       " {'title': 'The Wyrmling Horde',\n",
       "  'authors': ['David Farland'],\n",
       "  'publisher': 'Farrar, Straus, and Giroux',\n",
       "  'publishedDate': '2009-09-29',\n",
       "  'description': 'The Saga of the Runelords is written in the finest tradition of Tolkien and other works that rise above the fantasy genre to special and individual heights. Now the epic story continues, in this follow-up to \"Worldbinder.\"',\n",
       "  'pageCount': 368,\n",
       "  'categories': ['Fiction'],\n",
       "  'smallThumbnail': 'http://books.google.com/books/content?id=nIJEAwAAQBAJ&printsec=frontcover&img=1&zoom=5&edge=curl&source=gbs_api',\n",
       "  'thumbnail': 'http://books.google.com/books/content?id=nIJEAwAAQBAJ&printsec=frontcover&img=1&zoom=1&edge=curl&source=gbs_api',\n",
       "  'language': 'en',\n",
       "  'isEbook': False,\n",
       "  'webReaderLink': 'http://play.google.com/books/reader?id=nIJEAwAAQBAJ&hl=&printsec=frontcover&source=gbs_api',\n",
       "  'isbn13': '9780765355850',\n",
       "  'isbn10': '076535585X',\n",
       "  'googleId': 'nIJEAwAAQBAJ'},\n",
       " {'title': 'Peter Pan Book and Charm',\n",
       "  'authors': ['J. M. Barrie'],\n",
       "  'publisher': 'Harper Collins',\n",
       "  'publishedDate': '2000-01-05',\n",
       "  'description': 'The adventures of the three Darling children in Never-Never Land with Peter Pan, the boy who would not grow up.',\n",
       "  'pageCount': 240,\n",
       "  'categories': ['Juvenile Fiction'],\n",
       "  'averageRating': 5,\n",
       "  'smallThumbnail': 'http://books.google.com/books/content?id=u6lEUqDmaOcC&printsec=frontcover&img=1&zoom=5&edge=curl&source=gbs_api',\n",
       "  'thumbnail': 'http://books.google.com/books/content?id=u6lEUqDmaOcC&printsec=frontcover&img=1&zoom=1&edge=curl&source=gbs_api',\n",
       "  'language': 'en',\n",
       "  'isEbook': False,\n",
       "  'webReaderLink': 'http://play.google.com/books/reader?id=u6lEUqDmaOcC&hl=&printsec=frontcover&source=gbs_api',\n",
       "  'isbn13': '9780694013180',\n",
       "  'isbn10': '0694013188',\n",
       "  'googleId': 'u6lEUqDmaOcC'},\n",
       " {'title': 'Avatar: the Last Airbender--North and South Part Three',\n",
       "  'authors': ['Gene Luen Yang', 'Michael Dante DiMartino', 'Bryan Konietzko'],\n",
       "  'publisher': 'Dark Horse Comics',\n",
       "  'publishedDate': '2017-05-09',\n",
       "  'description': '\"Created by Bryan Konietzko, Michael Dante DiMartino\"--Preliminaries.',\n",
       "  'pageCount': 80,\n",
       "  'categories': ['COMICS & GRAPHIC NOVELS'],\n",
       "  'smallThumbnail': 'http://books.google.com/books/content?id=88KiDgAAQBAJ&printsec=frontcover&img=1&zoom=5&edge=curl&source=gbs_api',\n",
       "  'thumbnail': 'http://books.google.com/books/content?id=88KiDgAAQBAJ&printsec=frontcover&img=1&zoom=1&edge=curl&source=gbs_api',\n",
       "  'language': 'en',\n",
       "  'isEbook': False,\n",
       "  'webReaderLink': 'http://play.google.com/books/reader?id=88KiDgAAQBAJ&hl=&printsec=frontcover&source=gbs_api',\n",
       "  'isbn13': '9781506701301',\n",
       "  'isbn10': '1506701302',\n",
       "  'googleId': '88KiDgAAQBAJ'},\n",
       " {'title': 'Adventure Time Original Graphic Novel Vol. 5: Graybles Schmaybles',\n",
       "  'authors': ['Danielle Corsetto', 'Pendleton Ward'],\n",
       "  'publisher': 'Simon and Schuster',\n",
       "  'publishedDate': '2015-05-12',\n",
       "  'description': 'After waking up in the treehouse, Finn and Jake find a little purple cube that is able to activate a watchable screen, a strange situation that leads to adventure.',\n",
       "  'pageCount': 160,\n",
       "  'categories': ['Juvenile Fiction'],\n",
       "  'smallThumbnail': 'http://books.google.com/books/content?id=Zq4yDwAAQBAJ&printsec=frontcover&img=1&zoom=5&edge=curl&source=gbs_api',\n",
       "  'thumbnail': 'http://books.google.com/books/content?id=Zq4yDwAAQBAJ&printsec=frontcover&img=1&zoom=1&edge=curl&source=gbs_api',\n",
       "  'language': 'en',\n",
       "  'isEbook': False,\n",
       "  'webReaderLink': 'http://play.google.com/books/reader?id=Zq4yDwAAQBAJ&hl=&printsec=frontcover&source=gbs_api',\n",
       "  'isbn13': '9781608864843',\n",
       "  'isbn10': '1608864847',\n",
       "  'googleId': 'Zq4yDwAAQBAJ'},\n",
       " {'title': 'The Midnight Folk',\n",
       "  'authors': ['John Masefield'],\n",
       "  'publisher': 'New York Review of Books',\n",
       "  'publishedDate': '2008-09-01',\n",
       "  'description': \"Talking paintings and animals help Kay in his attempt to outwit the witches and locate his great-grandfather's buried treasure.\",\n",
       "  'pageCount': 247,\n",
       "  'categories': ['Juvenile Fiction'],\n",
       "  'averageRating': 3.5,\n",
       "  'smallThumbnail': 'http://books.google.com/books/content?id=xcnBP8iIUIgC&printsec=frontcover&img=1&zoom=5&edge=curl&source=gbs_api',\n",
       "  'thumbnail': 'http://books.google.com/books/content?id=xcnBP8iIUIgC&printsec=frontcover&img=1&zoom=1&edge=curl&source=gbs_api',\n",
       "  'language': 'en',\n",
       "  'isEbook': False,\n",
       "  'webReaderLink': 'http://play.google.com/books/reader?id=xcnBP8iIUIgC&hl=&printsec=frontcover&source=gbs_api',\n",
       "  'isbn13': '9781590172902',\n",
       "  'isbn10': '1590172906',\n",
       "  'googleId': 'xcnBP8iIUIgC'},\n",
       " {'title': 'Lone Wolf',\n",
       "  'authors': ['Kathryn Lasky'],\n",
       "  'publisher': 'Scholastic Inc.',\n",
       "  'publishedDate': '2011',\n",
       "  'description': 'Abandoned by his pack, a baby wolf with a mysterious mark on his deformed paw survives and embarks on a journey that will change the world of the wolves of the Beyond.',\n",
       "  'pageCount': 219,\n",
       "  'categories': ['Juvenile Fiction'],\n",
       "  'averageRating': 4,\n",
       "  'smallThumbnail': 'http://books.google.com/books/content?id=XPTolMaxr4kC&printsec=frontcover&img=1&zoom=5&edge=curl&source=gbs_api',\n",
       "  'thumbnail': 'http://books.google.com/books/content?id=XPTolMaxr4kC&printsec=frontcover&img=1&zoom=1&edge=curl&source=gbs_api',\n",
       "  'language': 'en',\n",
       "  'isEbook': False,\n",
       "  'webReaderLink': 'http://play.google.com/books/reader?id=XPTolMaxr4kC&hl=&printsec=frontcover&source=gbs_api',\n",
       "  'isbn13': '9780545093118',\n",
       "  'isbn10': '0545093112',\n",
       "  'googleId': 'XPTolMaxr4kC'},\n",
       " {'title': 'The Silver Door',\n",
       "  'authors': ['Holly Lisle'],\n",
       "  'publisher': 'Scholastic Inc.',\n",
       "  'publishedDate': '2010-05-01',\n",
       "  'description': 'When Genna is chosen as the Sunrider of prophecy, her destiny is to unite the magic of the sun and the moon for the good of both Nightlings and humans.',\n",
       "  'pageCount': 366,\n",
       "  'categories': ['Juvenile Fiction'],\n",
       "  'averageRating': 3,\n",
       "  'smallThumbnail': 'http://books.google.com/books/content?id=Sj5MWqEPsDkC&printsec=frontcover&img=1&zoom=5&edge=curl&source=gbs_api',\n",
       "  'thumbnail': 'http://books.google.com/books/content?id=Sj5MWqEPsDkC&printsec=frontcover&img=1&zoom=1&edge=curl&source=gbs_api',\n",
       "  'language': 'en',\n",
       "  'isEbook': False,\n",
       "  'webReaderLink': 'http://play.google.com/books/reader?id=Sj5MWqEPsDkC&hl=&printsec=frontcover&source=gbs_api',\n",
       "  'isbn13': '9780545000154',\n",
       "  'isbn10': '0545000157',\n",
       "  'googleId': 'Sj5MWqEPsDkC'},\n",
       " {'title': 'Ruin and Rising',\n",
       "  'authors': ['Leigh Bardugo'],\n",
       "  'publishedDate': '2015-08-18',\n",
       "  'description': \"The capital has fallen. The Darkling rules Ravka from his shadow throne. Now the nation's fate rests with a broken Sun Summoner, a disgraced tracker, and the shattered remnants of a once-great magical army. Deep in an ancient network of tunnels and caverns, a weakened Alina must submit to the dubious protection of the Apparat and the zealots who worship her as a Saint. Yet her plans lie elsewhere, with the hunt for the elusive firebird and the hope that an outlaw prince still survives. Alina will have to forge new alliances and put aside old rivalries as she and Mal race to find the last of Morozova's amplifiers. But as she begins to unravel the Darkling's secrets, she reveals a past that will forever alter her understanding of the bond they share and the power she wields. The firebird is the one thing that stands between Ravka and destruction--and claiming it could cost Alina the very future she's fighting for. Ruin and Rising is the thrilling final installment in Leigh Bardugo's Grisha Trilogy.\",\n",
       "  'pageCount': 480,\n",
       "  'categories': ['Juvenile Fiction'],\n",
       "  'averageRating': 4,\n",
       "  'smallThumbnail': 'http://books.google.com/books/content?id=Sno2DwAAQBAJ&printsec=frontcover&img=1&zoom=5&edge=curl&source=gbs_api',\n",
       "  'thumbnail': 'http://books.google.com/books/content?id=Sno2DwAAQBAJ&printsec=frontcover&img=1&zoom=1&edge=curl&source=gbs_api',\n",
       "  'language': 'en',\n",
       "  'isEbook': False,\n",
       "  'webReaderLink': 'http://play.google.com/books/reader?id=Sno2DwAAQBAJ&hl=&printsec=frontcover&source=gbs_api',\n",
       "  'isbn13': '9781250063168',\n",
       "  'isbn10': '1250063167',\n",
       "  'googleId': 'Sno2DwAAQBAJ'}]"
      ]
     },
     "execution_count": 75,
     "metadata": {},
     "output_type": "execute_result"
    }
   ],
   "source": [
    "process_list(results, relevant_details)"
   ]
  }
 ],
 "metadata": {
  "kernelspec": {
   "display_name": "U4-S3-DNN (Python3)",
   "language": "python",
   "name": "u4-s3-dnn"
  },
  "language_info": {
   "codemirror_mode": {
    "name": "ipython",
    "version": 3
   },
   "file_extension": ".py",
   "mimetype": "text/x-python",
   "name": "python",
   "nbconvert_exporter": "python",
   "pygments_lexer": "ipython3",
   "version": "3.7.0"
  }
 },
 "nbformat": 4,
 "nbformat_minor": 4
}
